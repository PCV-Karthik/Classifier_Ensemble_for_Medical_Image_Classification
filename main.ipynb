{
 "cells": [
  {
   "cell_type": "code",
   "execution_count": 1,
   "id": "initial_id",
   "metadata": {
    "collapsed": true,
    "ExecuteTime": {
     "end_time": "2024-04-14T17:51:32.594684Z",
     "start_time": "2024-04-14T17:51:28.342298Z"
    }
   },
   "outputs": [],
   "source": [
    "from tensorflow.keras.preprocessing.image import ImageDataGenerator\n",
    "import tensorflow as tf"
   ]
  },
  {
   "cell_type": "code",
   "outputs": [],
   "source": [
    "# Define directories\n",
    "train_dir = 'dataset/Kather_texture_2016_image_tiles_5000/train'\n",
    "val_dir = 'dataset/Kather_texture_2016_image_tiles_5000/validation'\n",
    "test_dir = 'dataset/Kather_texture_2016_image_tiles_5000/test'"
   ],
   "metadata": {
    "collapsed": false,
    "ExecuteTime": {
     "end_time": "2024-04-14T17:51:35.181586Z",
     "start_time": "2024-04-14T17:51:35.176865Z"
    }
   },
   "id": "78f9fed85d6fb559",
   "execution_count": 2
  },
  {
   "cell_type": "code",
   "outputs": [],
   "source": [
    "# Define image parameters\n",
    "image_size = (150, 150)\n",
    "batch_size = 32\n",
    "num_classes = 8"
   ],
   "metadata": {
    "collapsed": false,
    "ExecuteTime": {
     "end_time": "2024-04-14T17:51:36.286004Z",
     "start_time": "2024-04-14T17:51:36.281382Z"
    }
   },
   "id": "4507859c3bfca4b3",
   "execution_count": 3
  },
  {
   "cell_type": "code",
   "outputs": [],
   "source": [
    "train_datagen = ImageDataGenerator(\n",
    "    rescale=1./255,\n",
    "    shear_range=0.2,\n",
    "    zoom_range=0.2,\n",
    "    horizontal_flip=True\n",
    ")"
   ],
   "metadata": {
    "collapsed": false,
    "ExecuteTime": {
     "end_time": "2024-04-14T17:51:37.283522Z",
     "start_time": "2024-04-14T17:51:37.276727Z"
    }
   },
   "id": "54971de6ca65eb9a",
   "execution_count": 4
  },
  {
   "cell_type": "code",
   "outputs": [],
   "source": [
    "test_datagen = ImageDataGenerator(rescale=1./255)"
   ],
   "metadata": {
    "collapsed": false,
    "ExecuteTime": {
     "end_time": "2024-04-14T17:51:38.571091Z",
     "start_time": "2024-04-14T17:51:38.568132Z"
    }
   },
   "id": "68e0aedb655d3d42",
   "execution_count": 5
  },
  {
   "cell_type": "code",
   "outputs": [
    {
     "name": "stdout",
     "output_type": "stream",
     "text": [
      "Found 4000 images belonging to 8 classes.\n"
     ]
    }
   ],
   "source": [
    "train_generator = train_datagen.flow_from_directory(\n",
    "    train_dir,\n",
    "    target_size=image_size,\n",
    "    batch_size=batch_size,\n",
    "    class_mode='categorical',  # For multiclass classification\n",
    "    shuffle=True\n",
    ")"
   ],
   "metadata": {
    "collapsed": false,
    "ExecuteTime": {
     "end_time": "2024-04-14T17:51:40.568288Z",
     "start_time": "2024-04-14T17:51:40.432587Z"
    }
   },
   "id": "de39d9644fc39d2b",
   "execution_count": 6
  },
  {
   "cell_type": "code",
   "outputs": [
    {
     "name": "stdout",
     "output_type": "stream",
     "text": [
      "Found 496 images belonging to 8 classes.\n"
     ]
    }
   ],
   "source": [
    "validation_generator = test_datagen.flow_from_directory(\n",
    "    val_dir,\n",
    "    target_size=image_size,\n",
    "    batch_size=batch_size,\n",
    "    class_mode='categorical',  # For multiclass classification\n",
    "    shuffle=False\n",
    ")"
   ],
   "metadata": {
    "collapsed": false,
    "ExecuteTime": {
     "end_time": "2024-04-14T17:51:41.751396Z",
     "start_time": "2024-04-14T17:51:41.723473Z"
    }
   },
   "id": "777a7a97460a21ab",
   "execution_count": 7
  },
  {
   "cell_type": "code",
   "outputs": [
    {
     "name": "stdout",
     "output_type": "stream",
     "text": [
      "Found 504 images belonging to 8 classes.\n"
     ]
    }
   ],
   "source": [
    "# Evaluate the model\n",
    "test_generator = test_datagen.flow_from_directory(\n",
    "    test_dir,\n",
    "    target_size=image_size,\n",
    "    batch_size=1,\n",
    "    class_mode='categorical',  # For multiclass classification\n",
    "    shuffle=False\n",
    ")"
   ],
   "metadata": {
    "collapsed": false,
    "ExecuteTime": {
     "end_time": "2024-04-12T10:04:22.341607Z",
     "start_time": "2024-04-12T10:04:22.315585Z"
    }
   },
   "id": "68af358a0a3ad631",
   "execution_count": 14
  },
  {
   "cell_type": "code",
   "outputs": [],
   "source": [
    "from utils.metrics import performance\n",
    "from utils.models import alexnet, googlenet"
   ],
   "metadata": {
    "collapsed": false,
    "ExecuteTime": {
     "end_time": "2024-04-14T17:51:53.354012Z",
     "start_time": "2024-04-14T17:51:51.675403Z"
    }
   },
   "id": "5047d79d2dbf7e22",
   "execution_count": 8
  },
  {
   "cell_type": "code",
   "outputs": [],
   "source": [
    "alexnet = alexnet((150, 150, 3), 8)"
   ],
   "metadata": {
    "collapsed": false,
    "ExecuteTime": {
     "end_time": "2024-04-14T17:51:54.591441Z",
     "start_time": "2024-04-14T17:51:54.419522Z"
    }
   },
   "id": "13be3cf39324fdd8",
   "execution_count": 9
  },
  {
   "cell_type": "code",
   "outputs": [],
   "source": [
    "alexnet.compile(optimizer=tf.keras.optimizers.Adam(0.001), loss='categorical_crossentropy', metrics=['accuracy'])"
   ],
   "metadata": {
    "collapsed": false,
    "ExecuteTime": {
     "end_time": "2024-04-14T17:51:55.779302Z",
     "start_time": "2024-04-14T17:51:55.769650Z"
    }
   },
   "id": "2bd07ec0d2d5d449",
   "execution_count": 10
  },
  {
   "cell_type": "code",
   "outputs": [],
   "source": [
    "alexnet.fit(train_generator, validation_data=validation_generator, epochs=50)"
   ],
   "metadata": {
    "collapsed": false
   },
   "id": "2efd83a06ec72565",
   "execution_count": null
  },
  {
   "cell_type": "code",
   "outputs": [],
   "source": [
    "alexnet.save('Alexnet_1.keras')"
   ],
   "metadata": {
    "collapsed": false,
    "ExecuteTime": {
     "end_time": "2024-03-29T14:13:17.908485Z",
     "start_time": "2024-03-29T14:13:17.245220Z"
    }
   },
   "id": "2bec57299ad2d225",
   "execution_count": 19
  },
  {
   "cell_type": "markdown",
   "source": [
    "Google Net"
   ],
   "metadata": {
    "collapsed": false
   },
   "id": "fde5205ed26e7f03"
  },
  {
   "cell_type": "code",
   "outputs": [],
   "source": [
    "googlenetModel = googlenet((150, 150, 3), 8)"
   ],
   "metadata": {
    "collapsed": false
   },
   "id": "34f29ff4ba4a2246"
  },
  {
   "cell_type": "code",
   "outputs": [],
   "source": [
    "googlenetModel.compile(optimizer=tf.keras.optimizers.Adam(0.001), loss='categorical_crossentropy', metrics=['accuracy'])"
   ],
   "metadata": {
    "collapsed": false,
    "ExecuteTime": {
     "end_time": "2024-03-29T15:30:58.591889Z",
     "start_time": "2024-03-29T15:30:58.581382Z"
    }
   },
   "id": "e961f12c5baebd27",
   "execution_count": 108
  },
  {
   "cell_type": "code",
   "outputs": [],
   "source": [
    "googlenetModel.fit(train_generator, validation_data=validation_generator, epochs=50)"
   ],
   "metadata": {
    "collapsed": false
   },
   "id": "ea6b9ec35c38a115",
   "execution_count": null
  },
  {
   "cell_type": "code",
   "outputs": [],
   "source": [
    "googlenetModel.save('GoogleNet_1.keras')"
   ],
   "metadata": {
    "collapsed": false,
    "ExecuteTime": {
     "end_time": "2024-03-29T17:07:02.065942Z",
     "start_time": "2024-03-29T17:07:00.279234Z"
    }
   },
   "id": "a273d3bd70da1118",
   "execution_count": 110
  },
  {
   "cell_type": "code",
   "outputs": [],
   "source": [
    "performance(googlenetModel, test_generator)"
   ],
   "metadata": {
    "collapsed": false
   },
   "id": "d1cfc4288360e6ee",
   "execution_count": null
  },
  {
   "cell_type": "code",
   "outputs": [],
   "source": [
    "from models import ResNet"
   ],
   "metadata": {
    "collapsed": false,
    "ExecuteTime": {
     "end_time": "2024-04-11T18:02:49.990236Z",
     "start_time": "2024-04-11T18:02:47.265450Z"
    }
   },
   "id": "231714b8839e3e36",
   "execution_count": 1
  },
  {
   "cell_type": "code",
   "outputs": [],
   "source": [
    "resnetModel = ResNet((150,150,3), 8)"
   ],
   "metadata": {
    "collapsed": false,
    "ExecuteTime": {
     "end_time": "2024-04-11T18:02:52.639952Z",
     "start_time": "2024-04-11T18:02:52.269373Z"
    }
   },
   "id": "6ec6b3718689744e",
   "execution_count": 2
  },
  {
   "cell_type": "code",
   "outputs": [],
   "source": [
    "resnetModel.compile(optimizer=tf.keras.optimizers.Adam(0.001), loss='categorical_crossentropy', metrics=['accuracy'])"
   ],
   "metadata": {
    "collapsed": false,
    "ExecuteTime": {
     "end_time": "2024-04-11T18:04:03.531159Z",
     "start_time": "2024-04-11T18:04:03.513110Z"
    }
   },
   "id": "1095a20821e66866",
   "execution_count": 14
  },
  {
   "cell_type": "code",
   "outputs": [],
   "source": [
    "resnetModel.fit(train_generator, validation_data=validation_generator, epochs=50)"
   ],
   "metadata": {
    "collapsed": false
   },
   "id": "bc3d2977276f591e",
   "execution_count": null
  },
  {
   "cell_type": "code",
   "outputs": [],
   "source": [
    "resnetModel.save('models/ResNet.keras')"
   ],
   "metadata": {
    "collapsed": false,
    "ExecuteTime": {
     "end_time": "2024-04-11T23:34:20.794532Z",
     "start_time": "2024-04-11T23:34:19.970164Z"
    }
   },
   "id": "25e2b7bd8b2e044f",
   "execution_count": 17
  },
  {
   "cell_type": "code",
   "outputs": [],
   "source": [
    "import tensorflow as tf"
   ],
   "metadata": {
    "collapsed": false,
    "ExecuteTime": {
     "end_time": "2024-04-12T10:03:35.709456Z",
     "start_time": "2024-04-12T10:03:32.633443Z"
    }
   },
   "id": "6ace1a6a9efdad0a",
   "execution_count": 2
  },
  {
   "cell_type": "code",
   "outputs": [],
   "source": [
    "resnet = tf.keras.models.load_model('models/ResNet.keras')"
   ],
   "metadata": {
    "collapsed": false,
    "ExecuteTime": {
     "end_time": "2024-04-12T10:03:39.803300Z",
     "start_time": "2024-04-12T10:03:37.138674Z"
    }
   },
   "id": "48ae19c96f2be6c",
   "execution_count": 3
  },
  {
   "cell_type": "code",
   "outputs": [],
   "source": [
    "performance(resnet, test_generator)"
   ],
   "metadata": {
    "collapsed": false
   },
   "id": "f526080402557654",
   "execution_count": null
  }
 ],
 "metadata": {
  "kernelspec": {
   "display_name": "Python 3",
   "language": "python",
   "name": "python3"
  },
  "language_info": {
   "codemirror_mode": {
    "name": "ipython",
    "version": 2
   },
   "file_extension": ".py",
   "mimetype": "text/x-python",
   "name": "python",
   "nbconvert_exporter": "python",
   "pygments_lexer": "ipython2",
   "version": "2.7.6"
  }
 },
 "nbformat": 4,
 "nbformat_minor": 5
}
